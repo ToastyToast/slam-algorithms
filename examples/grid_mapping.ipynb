{
 "cells": [
  {
   "cell_type": "code",
   "execution_count": 1,
   "metadata": {
    "collapsed": false
   },
   "outputs": [],
   "source": [
    "%load_ext autoreload\n",
    "%autoreload 2\n",
    "%matplotlib inline"
   ]
  },
  {
   "cell_type": "code",
   "execution_count": 2,
   "metadata": {
    "collapsed": true
   },
   "outputs": [],
   "source": [
    "import math\n",
    "import numpy as np\n",
    "import matplotlib.pyplot as plt\n",
    "import scipy.io as sio\n",
    "from slam.gridmap import GridMap\n",
    "from slam.utils import bresenham_line"
   ]
  },
  {
   "cell_type": "code",
   "execution_count": 3,
   "metadata": {
    "collapsed": true
   },
   "outputs": [],
   "source": [
    "plt.rcParams['figure.figsize'] = (10, 10)"
   ]
  },
  {
   "cell_type": "code",
   "execution_count": 46,
   "metadata": {
    "collapsed": false,
    "scrolled": false
   },
   "outputs": [
    {
     "data": {
      "text/plain": [
       "<matplotlib.image.AxesImage at 0xda0bc3e400>"
      ]
     },
     "execution_count": 46,
     "metadata": {},
     "output_type": "execute_result"
    },
    {
     "data": {
      "image/png": "[encoded data removed]",
      "text/plain": [
       "<matplotlib.figure.Figure at 0xda0e65aa20>"
      ]
     },
     "metadata": {},
     "output_type": "display_data"
    }
   ],
   "source": [
    "grid_map = GridMap('./data/laser_struct.mat')\n",
    "\n",
    "\n",
    "pose_list = list(enumerate(grid_map._poses))\n",
    "for t, pose in pose_list[50:54]:\n",
    "    robot_pose = pose.T\n",
    "    scan = grid_map._laser[0, t]\n",
    "    \n",
    "    map_update, pose_map_frame, laser_map_frame = grid_map.inv_sensor_model(\n",
    "        scan, robot_pose\n",
    "    )\n",
    "    \n",
    "    GridMap.laser_as_cartesian(scan)\n",
    "    \n",
    "    log_odds_prior = GridMap.prob2log(grid_map._prior)\n",
    "    \n",
    "    grid_map._grid_map = grid_map._grid_map + map_update\n",
    "    \n",
    "plt.imshow(grid_map._grid_map, cmap='gray')"
   ]
  }
 ],
 "metadata": {
  "kernelspec": {
   "display_name": "Python 3",
   "language": "python",
   "name": "python3"
  },
  "language_info": {
   "codemirror_mode": {
    "name": "ipython",
    "version": 3
   },
   "file_extension": ".py",
   "mimetype": "text/x-python",
   "name": "python",
   "nbconvert_exporter": "python",
   "pygments_lexer": "ipython3",
   "version": "3.6.0"
  }
 },
 "nbformat": 4,
 "nbformat_minor": 2
}
