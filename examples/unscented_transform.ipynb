{
 "cells": [
  {
   "cell_type": "code",
   "execution_count": 1,
   "metadata": {
    "collapsed": false
   },
   "outputs": [],
   "source": [
    "%load_ext autoreload\n",
    "%autoreload 2\n",
    "%matplotlib inline"
   ]
  },
  {
   "cell_type": "code",
   "execution_count": 2,
   "metadata": {
    "collapsed": true
   },
   "outputs": [],
   "source": [
    "import numpy as np\n",
    "import matplotlib.pyplot as plt"
   ]
  },
  {
   "cell_type": "code",
   "execution_count": 33,
   "metadata": {
    "collapsed": true
   },
   "outputs": [],
   "source": [
    "def get_sigma_points(mu, sigma, lambd, alpha, beta):\n",
    "    n = mu.shape[0]\n",
    "    sigma_points = np.zeros((n, 2*n+1))\n",
    "    \n",
    "    sigma_points[:, [0]] = mu\n",
    "    \n",
    "    mroot = np.linalg.cholesky((n+lambd)*sigma)\n",
    "    \n",
    "    # compute sigma points\n",
    "    for i in range(1, n+1):\n",
    "        # nice indexing\n",
    "        sigma_points[:,[i]] = mu + mroot[:, [i-1]]\n",
    "    \n",
    "    for i in range(n+1, 2*n+1):\n",
    "        print(i, i-n+1)\n",
    "        sigma_points[:,[i]] = mu - mroot[:, [i-n-1]]\n",
    "        \n",
    "    # compute weights for mean and covariance recovery\n",
    "    w_m = np.zeros(2*n+1)\n",
    "    w_c = np.zeros(2*n+1)\n",
    "    \n",
    "    w_m[0] = lambd / (n + lambd)\n",
    "    w_c[0] = w_m[0] + (1 - alpha**2 + beta)\n",
    "    weight = 1 / ( 2 * (n + lambd))\n",
    "    for t in range(1,2*n+1):\n",
    "        w_m[t] = weight\n",
    "        w_c[t] = weight\n",
    "        \n",
    "    return sigma_points, w_m, w_c"
   ]
  },
  {
   "cell_type": "code",
   "execution_count": 4,
   "metadata": {
    "collapsed": false
   },
   "outputs": [],
   "source": [
    "def recover_gaussian(sigma_points, w_m, w_c):\n",
    "    n = sigma_points.shape[0]\n",
    "    n_col = sigma_points.shape[1]\n",
    "    \n",
    "    mu = np.zeros((n, 1))\n",
    "    \n",
    "    # Recover mean\n",
    "    for i in range(0, n_col):\n",
    "        mu = mu + w_m[i] * sigma_points[:, [i]]\n",
    "        \n",
    "    # Recover covariance\n",
    "    sigma = np.zeros((n, n))\n",
    "    for i in range(0, n_col):\n",
    "        sigma = sigma + w_c[i]*(sigma_points[:, [i]] - mu) * (sigma_points[:, [i]] - mu).T\n",
    "\n",
    "    return mu, sigma"
   ]
  },
  {
   "cell_type": "code",
   "execution_count": 5,
   "metadata": {
    "collapsed": true
   },
   "outputs": [],
   "source": [
    "def transform_linear(points):\n",
    "    points[0:1, :] = points[0:1, :] + 1\n",
    "    points[1:2, :] = points[1:2, :] + 2\n",
    "    \n",
    "    return points"
   ]
  },
  {
   "cell_type": "code",
   "execution_count": 6,
   "metadata": {
    "collapsed": true
   },
   "outputs": [],
   "source": [
    "def transform_motion_model(points, command):\n",
    "    return points"
   ]
  },
  {
   "cell_type": "code",
   "execution_count": 36,
   "metadata": {
    "collapsed": false
   },
   "outputs": [
    {
     "name": "stdout",
     "output_type": "stream",
     "text": [
      "[[0]\n",
      " [0]\n",
      " [3]\n",
      " [4]\n",
      " [5]\n",
      " [6]]\n",
      "[[ 0.1  0.   0.   0.   0.   0. ]\n",
      " [ 0.   0.1  0.   0.   0.   0. ]\n",
      " [ 0.   0.   0.1  0.   0.   0. ]\n",
      " [ 0.   0.   0.   0.1  0.   0. ]\n",
      " [ 0.   0.   0.   0.   0.1  0. ]\n",
      " [ 0.   0.   0.   0.   0.   0.1]]\n",
      "====================\n",
      "[[ 0.          0.75299402  0.          0.          0.          0.          0.\n",
      "   0.          0.          0.          0.          0.          0.        ]\n",
      " [ 0.          0.          0.75299402  0.          0.          0.          0.\n",
      "   0.          0.          0.          0.          0.          0.        ]\n",
      " [ 3.          3.          3.          3.75299402  3.          3.          3.\n",
      "   0.          0.          0.          0.          0.          0.        ]\n",
      " [ 4.          4.          4.          4.          4.75299402  4.          4.\n",
      "   0.          0.          0.          0.          0.          0.        ]\n",
      " [ 5.          5.          5.          5.          5.          5.75299402\n",
      "   5.          0.          0.          0.          0.          0.          0.        ]\n",
      " [ 6.          6.          6.          6.          6.          6.\n",
      "   6.75299402  0.          0.          0.          0.          0.          0.        ]]\n",
      "[7, 8, 9, 10, 11, 12]\n",
      "[[ 0.75299402  0.          0.          0.          0.          0.        ]\n",
      " [ 0.          0.75299402  0.          0.          0.          0.        ]\n",
      " [ 0.          0.          0.75299402  0.          0.          0.        ]\n",
      " [ 0.          0.          0.          0.75299402  0.          0.        ]\n",
      " [ 0.          0.          0.          0.          0.75299402  0.        ]\n",
      " [ 0.          0.          0.          0.          0.          0.75299402]]\n",
      "7 2\n",
      "8 3\n",
      "9 4\n",
      "10 5\n",
      "11 6\n",
      "12 7\n",
      "[[ 0.          0.75299402  0.          0.          0.          0.          0.\n",
      "  -0.75299402  0.          0.          0.          0.          0.        ]\n",
      " [ 0.          0.          0.75299402  0.          0.          0.          0.\n",
      "   0.         -0.75299402  0.          0.          0.          0.        ]\n",
      " [ 3.          3.          3.          3.75299402  3.          3.          3.\n",
      "   3.          3.          2.24700598  3.          3.          3.        ]\n",
      " [ 4.          4.          4.          4.          4.75299402  4.          4.\n",
      "   4.          4.          4.          3.24700598  4.          4.        ]\n",
      " [ 5.          5.          5.          5.          5.          5.75299402\n",
      "   5.          5.          5.          5.          5.          4.24700598\n",
      "   5.        ]\n",
      " [ 6.          6.          6.          6.          6.          6.\n",
      "   6.75299402  6.          6.          6.          6.          6.\n",
      "   5.24700598]]\n",
      "[-0.05820106  0.08818342  0.08818342  0.08818342  0.08818342  0.08818342\n",
      "  0.08818342  0.08818342  0.08818342  0.08818342  0.08818342  0.08818342\n",
      "  0.08818342]\n",
      "[ 2.13179894  0.08818342  0.08818342  0.08818342  0.08818342  0.08818342\n",
      "  0.08818342  0.08818342  0.08818342  0.08818342  0.08818342  0.08818342\n",
      "  0.08818342]\n",
      "====================\n",
      "[[ 1.]\n",
      " [ 2.]\n",
      " [ 3.]\n",
      " [ 4.]\n",
      " [ 5.]\n",
      " [ 6.]]\n",
      "[[  1.00000000e-01   0.00000000e+00   0.00000000e+00   0.00000000e+00\n",
      "    0.00000000e+00   0.00000000e+00]\n",
      " [  0.00000000e+00   1.00000000e-01  -6.16297582e-33   0.00000000e+00\n",
      "    1.23259516e-32   0.00000000e+00]\n",
      " [  0.00000000e+00  -6.16297582e-33   1.00000000e-01   0.00000000e+00\n",
      "   -1.27970334e-30   0.00000000e+00]\n",
      " [  0.00000000e+00   0.00000000e+00   0.00000000e+00   1.00000000e-01\n",
      "    0.00000000e+00   0.00000000e+00]\n",
      " [  0.00000000e+00   1.23259516e-32  -1.27970334e-30   0.00000000e+00\n",
      "    1.00000000e-01   0.00000000e+00]\n",
      " [  0.00000000e+00   0.00000000e+00   0.00000000e+00   0.00000000e+00\n",
      "    0.00000000e+00   1.00000000e-01]]\n"
     ]
    }
   ],
   "source": [
    "sigma = np.eye(3) * 0.1\n",
    "mu = np.matrix([0, 0, 3]).T\n",
    "\n",
    "n = mu.shape[0]\n",
    "alpha = 0.9\n",
    "beta = 2\n",
    "kappa = 1\n",
    "lambd = alpha*alpha*(n+kappa)-n\n",
    "\n",
    "print(mu)\n",
    "print(sigma)\n",
    "print(20*'=')\n",
    "\n",
    "sigma_points, w_m, w_c = get_sigma_points(mu, sigma, lambd, alpha, beta)\n",
    "print(sigma_points)\n",
    "print(w_m)\n",
    "print(w_c)\n",
    "\n",
    "transform_linear(sigma_points)\n",
    "\n",
    "mu, sigma = recover_gaussian(sigma_points, w_m, w_c)\n",
    "print(20*'=')\n",
    "print(mu)\n",
    "print(sigma)"
   ]
  },
  {
   "cell_type": "code",
   "execution_count": 18,
   "metadata": {
    "collapsed": false
   },
   "outputs": [
    {
     "data": {
      "text/plain": [
       "[1, 2, 3]"
      ]
     },
     "execution_count": 18,
     "metadata": {},
     "output_type": "execute_result"
    }
   ],
   "source": []
  }
 ],
 "metadata": {
  "kernelspec": {
   "display_name": "Python 3",
   "language": "python",
   "name": "python3"
  },
  "language_info": {
   "codemirror_mode": {
    "name": "ipython",
    "version": 3
   },
   "file_extension": ".py",
   "mimetype": "text/x-python",
   "name": "python",
   "nbconvert_exporter": "python",
   "pygments_lexer": "ipython3",
   "version": "3.6.0"
  }
 },
 "nbformat": 4,
 "nbformat_minor": 2
}
