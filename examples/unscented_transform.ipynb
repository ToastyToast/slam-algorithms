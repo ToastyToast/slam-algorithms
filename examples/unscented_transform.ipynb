{
 "cells": [
  {
   "cell_type": "code",
   "execution_count": 88,
   "metadata": {
    "collapsed": false
   },
   "outputs": [
    {
     "name": "stdout",
     "output_type": "stream",
     "text": [
      "The autoreload extension is already loaded. To reload it, use:\n",
      "  %reload_ext autoreload\n"
     ]
    }
   ],
   "source": [
    "%load_ext autoreload\n",
    "%autoreload 2\n",
    "%matplotlib inline"
   ]
  },
  {
   "cell_type": "code",
   "execution_count": 89,
   "metadata": {
    "collapsed": true
   },
   "outputs": [],
   "source": [
    "import numpy as np\n",
    "import matplotlib.pyplot as plt"
   ]
  },
  {
   "cell_type": "code",
   "execution_count": 96,
   "metadata": {
    "collapsed": true
   },
   "outputs": [],
   "source": [
    "def get_sigma_points(mu, sigma, lambd, alpha, beta):\n",
    "    n = mu.shape[0]\n",
    "    sigma_points = np.zeros((n, 2*n+1))\n",
    "    \n",
    "    sigma_points[:, 0:1] = mu\n",
    "    \n",
    "    mroot = np.linalg.cholesky((n+lambd)*sigma)\n",
    "    \n",
    "    for i in range(1, n+1):\n",
    "        sigma_points[:,i:i+1] = mu + mroot[:, i-n+1:i-n+2]\n",
    "    \n",
    "    for i in range(n+1, 2*n+1):\n",
    "        sigma_points[:,i:i+1] = mu - mroot[:, i-2*n+1:i-2*n+2]\n",
    "        \n",
    "    w_m = np.zeros(2*n+1)\n",
    "    w_c = np.zeros(2*n+1)\n",
    "    \n",
    "    w_m[0] = lambd / (n + lambd)\n",
    "    w_c[0] = w_m[0] + (1 - alpha**2 + beta)\n",
    "    weight = 1 / ( 2 * (n + lambd))\n",
    "    for t in range(1,2*n+1):\n",
    "        w_m[t] = weight\n",
    "        w_c[t] = weight\n",
    "        \n",
    "    return sigma_points, w_m, w_c"
   ]
  },
  {
   "cell_type": "code",
   "execution_count": 98,
   "metadata": {
    "collapsed": false
   },
   "outputs": [],
   "source": [
    "def recover_gaussian(sigma_points, w_m, w_c):\n",
    "    n = sigma_points.shape[0]\n",
    "    n_col = sigma_points.shape[1]\n",
    "    \n",
    "    mu = np.zeros((n, 1))\n",
    "    \n",
    "    for i in range(0, n_col):\n",
    "        mu = mu + w_m[i] * sigma_points[:, i:i+1]\n",
    "        \n",
    "    sigma = np.zeros((n, n))\n",
    "    for i in range(0, n_col):\n",
    "        sigma = sigma + w_c[i]*(sigma_points[:, i:i+1] - mu) * (sigma_points[:, i:i+1] - mu).T\n",
    "\n",
    "    return mu, sigma"
   ]
  },
  {
   "cell_type": "code",
   "execution_count": 99,
   "metadata": {
    "collapsed": true
   },
   "outputs": [],
   "source": [
    "def transform_linear(points):\n",
    "    points[0:1, :] = points[0:1, :] + 1;\n",
    "    points[1:2, :] = points[1:2, :] + 2;"
   ]
  },
  {
   "cell_type": "code",
   "execution_count": 100,
   "metadata": {
    "collapsed": false
   },
   "outputs": [
    {
     "name": "stdout",
     "output_type": "stream",
     "text": [
      "[[ 2.         2.4929503  2.         1.5070497  2.       ]\n",
      " [ 1.         1.         1.4929503  1.         0.5070497]]\n",
      "[ 0.17695473  0.20576132  0.20576132  0.20576132  0.20576132]\n",
      "[ 2.36695473  0.20576132  0.20576132  0.20576132  0.20576132]\n",
      "[[ 3.]\n",
      " [ 3.]]\n",
      "[[ 0.1  0. ]\n",
      " [ 0.   0.1]]\n"
     ]
    }
   ],
   "source": [
    "sigma = np.eye(2) * 0.1\n",
    "mu = np.matrix([2, 1]).T\n",
    "\n",
    "n = mu.shape[0]\n",
    "alpha = 0.9\n",
    "beta = 2\n",
    "kappa = 1\n",
    "lambd = alpha*alpha*(n+kappa)-n\n",
    "\n",
    "\n",
    "sigma_points, w_m, w_c = get_sigma_points(mu, sigma, lambd, alpha, beta)\n",
    "print(sigma_points)\n",
    "print(w_m)\n",
    "print(w_c)\n",
    "\n",
    "transform_linear(sigma_points)\n",
    "\n",
    "mu, sigma = recover_gaussian(sigma_points, w_m, w_c)\n",
    "print(mu)\n",
    "print(sigma)"
   ]
  }
 ],
 "metadata": {
  "kernelspec": {
   "display_name": "Python 3",
   "language": "python",
   "name": "python3"
  },
  "language_info": {
   "codemirror_mode": {
    "name": "ipython",
    "version": 3
   },
   "file_extension": ".py",
   "mimetype": "text/x-python",
   "name": "python",
   "nbconvert_exporter": "python",
   "pygments_lexer": "ipython3",
   "version": "3.6.0"
  }
 },
 "nbformat": 4,
 "nbformat_minor": 2
}
