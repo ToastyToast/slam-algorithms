{
 "cells": [
  {
   "cell_type": "code",
   "execution_count": 1,
   "metadata": {},
   "outputs": [],
   "source": [
    "%load_ext autoreload\n",
    "%autoreload 2\n",
    "%matplotlib inline"
   ]
  },
  {
   "cell_type": "code",
   "execution_count": 2,
   "metadata": {},
   "outputs": [
    {
     "ename": "ImportError",
     "evalue": "cannot import name 'OdometryMotionModel' from 'slam.motion_models' (/home/toast/projects/slam-algorithms/src/slam/motion_models/__init__.py)",
     "output_type": "error",
     "traceback": [
      "\u001b[0;31m---------------------------------------------------------------------------\u001b[0m",
      "\u001b[0;31mImportError\u001b[0m                               Traceback (most recent call last)",
      "\u001b[0;32m<ipython-input-2-1c139b333290>\u001b[0m in \u001b[0;36m<module>\u001b[0;34m()\u001b[0m\n\u001b[1;32m      6\u001b[0m \u001b[0;32mfrom\u001b[0m \u001b[0mIPython\u001b[0m\u001b[0;34m.\u001b[0m\u001b[0mdisplay\u001b[0m \u001b[0;32mimport\u001b[0m \u001b[0mHTML\u001b[0m\u001b[0;34m\u001b[0m\u001b[0m\n\u001b[1;32m      7\u001b[0m \u001b[0;34m\u001b[0m\u001b[0m\n\u001b[0;32m----> 8\u001b[0;31m \u001b[0;32mfrom\u001b[0m \u001b[0mslam\u001b[0m\u001b[0;34m.\u001b[0m\u001b[0mmotion_models\u001b[0m \u001b[0;32mimport\u001b[0m \u001b[0mOdometryMotionModel\u001b[0m\u001b[0;34m\u001b[0m\u001b[0m\n\u001b[0m\u001b[1;32m      9\u001b[0m \u001b[0;32mfrom\u001b[0m \u001b[0mslam\u001b[0m\u001b[0;34m.\u001b[0m\u001b[0mdata\u001b[0m \u001b[0;32mimport\u001b[0m \u001b[0mread_simple_world\u001b[0m\u001b[0;34m,\u001b[0m \u001b[0mread_simple_data\u001b[0m\u001b[0;34m\u001b[0m\u001b[0m\n\u001b[1;32m     10\u001b[0m \u001b[0;32mfrom\u001b[0m \u001b[0mslam\u001b[0m\u001b[0;34m.\u001b[0m\u001b[0mutils\u001b[0m \u001b[0;32mimport\u001b[0m \u001b[0mnormalize_angle\u001b[0m\u001b[0;34m,\u001b[0m \u001b[0msample_normal_distribution\u001b[0m\u001b[0;34m\u001b[0m\u001b[0m\n",
      "\u001b[0;31mImportError\u001b[0m: cannot import name 'OdometryMotionModel' from 'slam.motion_models' (/home/toast/projects/slam-algorithms/src/slam/motion_models/__init__.py)"
     ]
    }
   ],
   "source": [
    "import math\n",
    "import random\n",
    "import numpy as np\n",
    "import matplotlib.pyplot as plt\n",
    "from matplotlib.animation import FuncAnimation\n",
    "from IPython.display import HTML\n",
    "\n",
    "from slam.motion_models import OdometryMotionModel\n",
    "from slam.data import read_simple_world, read_simple_data\n",
    "from slam.utils import normalize_angle, sample_normal_distribution\n",
    "from slam.robot import BaseRobot\n",
    "from slam.map import LandmarkMap"
   ]
  },
  {
   "cell_type": "code",
   "execution_count": null,
   "metadata": {},
   "outputs": [],
   "source": [
    "class ParticleFilterMotionOnly:\n",
    "    '''\n",
    "        One particle contains pose information only\n",
    "    '''\n",
    "    def __init__(self, init_pose, motion_model=None, samples=500):\n",
    "        self.samples = samples\n",
    "        self.motion_model = motion_model\n",
    "        self.init_pose = np.copy(init_pose)\n",
    "        self.particles = []\n",
    "    \n",
    "    def step(self, command, noise, sampler):\n",
    "        \n",
    "        if len(self.particles) == 0:\n",
    "            for i in range(0, self.samples):\n",
    "                m = self.init_pose\n",
    "                particle = motion_model.sample(m, command, noise, sampler)\n",
    "                self.particles.append(particle)\n",
    "            return self.particles\n",
    "        \n",
    "        new_particles = []\n",
    "        for m in self.particles:\n",
    "            particle = motion_model.sample(m, command, noise, sampler)\n",
    "            new_particles.append(particle)\n",
    "            \n",
    "        self.particles = new_particles[:]\n",
    "        return self.particles"
   ]
  },
  {
   "cell_type": "code",
   "execution_count": null,
   "metadata": {},
   "outputs": [],
   "source": [
    "robot = BaseRobot(0, 0, 0)\n",
    "motion_model = OdometryMotionModel(robot.pose)\n",
    "robot.motion = motion_model\n",
    "\n",
    "odometry, sensor = read_simple_data('./data/simple/sensor_data.dat')\n",
    "landmarks = read_simple_world('./data/simple/world.dat')\n",
    "\n",
    "landmark_map = LandmarkMap(landmarks)\n",
    "commands = [np.array(odom).T for odom in odometry]\n",
    "\n",
    "noise = [0.16, 0.16, 0.16, 0.16]\n",
    "\n",
    "# Odometry model sampling example\n",
    "x_sampled = []\n",
    "y_sampled = []\n",
    "samples = 500\n",
    "\n",
    "plt.figure(figsize=(12, 9))\n",
    "plt.plot(0, 0, 'ro')\n",
    "\n",
    "pf_sampling = ParticleFilterMotionOnly(robot.pose, robot.motion, samples)\n",
    "pf_particles = pf_sampling.step(commands[0], noise, sample_normal_distribution)\n",
    "\n",
    "for sampled_pose in pf_particles:\n",
    "    x_sampled.append(sampled_pose.item(0))\n",
    "    y_sampled.append(sampled_pose.item(1))\n",
    "    \n",
    "plt.plot(x_sampled, y_sampled, 'ko', markersize=2)\n",
    "\n",
    "# Plot true robot path and sampled approximations\n",
    "x = []\n",
    "y = []\n",
    "particles_x = []\n",
    "particles_y = []\n",
    "particle_filter = ParticleFilterMotionOnly(robot.pose, robot.motion, samples=32)\n",
    "\n",
    "\n",
    "fig, ax = plt.subplots(figsize=(12, 9))\n",
    "ax.set_xlim((-2, 12))\n",
    "ax.set_ylim((-2, 12))\n",
    "\n",
    "ln, = ax.plot([], [], 'bx', markersize=5, zorder=2)\n",
    "pn, = ax.plot([], [], 'ko', markersize=1, zorder=1)\n",
    "\n",
    "for key, value in landmark_map.landmarks.items():\n",
    "    plt.plot(value[0], value[1], 'ro')\n",
    "    \n",
    "def init():\n",
    "    ln.set_data([], []);\n",
    "    return ln,\n",
    "\n",
    "def update(frame):\n",
    "    particles = particle_filter.step(frame, noise, sample_normal_distribution)\n",
    "    \n",
    "    for particle in particles:\n",
    "        particles_x.append(particle.item(0))\n",
    "        particles_y.append(particle.item(1))\n",
    "    \n",
    "    robot.motion_command(frame)\n",
    "    \n",
    "    x.append(robot.pose.item(0))\n",
    "    y.append(robot.pose.item(1))\n",
    "    \n",
    "    ln.set_data(x, y)\n",
    "    pn.set_data(particles_x, particles_y)\n",
    "    \n",
    "    return ln, pn,\n",
    "\n",
    "ani = FuncAnimation(fig, update, frames=commands, init_func=init, blit=True, interval=100)"
   ]
  },
  {
   "cell_type": "code",
   "execution_count": null,
   "metadata": {},
   "outputs": [],
   "source": [
    "HTML(ani.to_html5_video())"
   ]
  }
 ],
 "metadata": {
  "kernelspec": {
   "display_name": "Python 3",
   "language": "python",
   "name": "python3"
  },
  "language_info": {
   "codemirror_mode": {
    "name": "ipython",
    "version": 3
   },
   "file_extension": ".py",
   "mimetype": "text/x-python",
   "name": "python",
   "nbconvert_exporter": "python",
   "pygments_lexer": "ipython3",
   "version": "3.7.0"
  }
 },
 "nbformat": 4,
 "nbformat_minor": 2
}
