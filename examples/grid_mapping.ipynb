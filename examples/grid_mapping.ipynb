{
 "cells": [
  {
   "cell_type": "code",
   "execution_count": 1,
   "metadata": {},
   "outputs": [],
   "source": [
    "%load_ext autoreload\n",
    "%autoreload 2\n",
    "%matplotlib inline"
   ]
  },
  {
   "cell_type": "code",
   "execution_count": 2,
   "metadata": {
    "collapsed": true
   },
   "outputs": [],
   "source": [
    "import math\n",
    "import numpy as np\n",
    "import matplotlib.pyplot as plt\n",
    "import scipy.io as sio"
   ]
  },
  {
   "cell_type": "code",
   "execution_count": 3,
   "metadata": {
    "collapsed": true
   },
   "outputs": [],
   "source": [
    "def log_odds_to_prob(l):\n",
    "    return 1 - (1 / (1 + np.exp(l)))\n",
    "\n",
    "def prob_to_log_odds(p):\n",
    "    return np.log(p / (1 - p))"
   ]
  },
  {
   "cell_type": "code",
   "execution_count": 4,
   "metadata": {},
   "outputs": [],
   "source": [
    "laser_content = sio.loadmat('./data/laser_struct.mat')\n",
    "laser = laser_content['laser']"
   ]
  },
  {
   "cell_type": "code",
   "execution_count": 5,
   "metadata": {},
   "outputs": [],
   "source": [
    "poses = laser['pose'][0]\n",
    "poses = np.matrix([arr[0].tolist() for arr in poses])"
   ]
  },
  {
   "cell_type": "code",
   "execution_count": 6,
   "metadata": {},
   "outputs": [],
   "source": [
    "# Some setup\n",
    "prior = 0.50\n",
    "prob_occ = 0.9\n",
    "prob_free = 0.35\n",
    "\n",
    "grid_size = 0.5\n",
    "\n",
    "border = 30\n",
    "pose_x_min = np.min(poses[:, 0])\n",
    "pose_x_max = np.max(poses[:, 0])\n",
    "pose_y_min = np.min(poses[:, 1])\n",
    "pose_y_max = np.max(poses[:, 1])\n",
    "\n",
    "map_borders = (pose_x_min-border, pose_x_max+border,\n",
    "               pose_y_min-border, pose_y_max+border)\n",
    "\n",
    "offset_x = map_borders[0]\n",
    "offset_y = map_borders[2]\n",
    "offset = (offset_x, offset_y)\n",
    "\n",
    "map_size_meters = (map_borders[1]-offset_x, map_borders[3]-offset_y)\n",
    "map_size = tuple([math.ceil(dim/grid_size) for dim in map_size_meters])\n",
    "\n",
    "log_odds_prior = prob_to_log_odds(prior)\n",
    "grid_map = np.ones(map_size) * log_odds_prior"
   ]
  },
  {
   "cell_type": "code",
   "execution_count": 7,
   "metadata": {},
   "outputs": [],
   "source": [
    "def world_to_map_coordinates(world_points, grid_size, offset):\n",
    "    ofx, ofy = offset\n",
    "    map_points = np.zeros(world_points.shape)\n",
    "    \n",
    "    for i in range(map_points.shape[1]):\n",
    "        col = world_points[:, [i]]\n",
    "        map_points[:, [i]] = np.array([\n",
    "            [math.ceil((col[0] - ofx) / grid_size)],\n",
    "            [math.ceil((col[1] - ofy) / grid_size)]\n",
    "        ])\n",
    "        \n",
    "    return map_points"
   ]
  },
  {
   "cell_type": "code",
   "execution_count": 8,
   "metadata": {},
   "outputs": [
    {
     "name": "stdout",
     "output_type": "stream",
     "text": [
      "[[  67.]\n",
      " [ 124.]]\n"
     ]
    }
   ],
   "source": [
    "pose = poses[16].T\n",
    "\n",
    "print(world_to_map_coordinates(pose[:2, :], grid_size, offset))"
   ]
  }
 ],
 "metadata": {
  "kernelspec": {
   "display_name": "Python 3",
   "language": "python",
   "name": "python3"
  },
  "language_info": {
   "codemirror_mode": {
    "name": "ipython",
    "version": 3
   },
   "file_extension": ".py",
   "mimetype": "text/x-python",
   "name": "python",
   "nbconvert_exporter": "python",
   "pygments_lexer": "ipython3",
   "version": "3.5.3"
  }
 },
 "nbformat": 4,
 "nbformat_minor": 2
}
