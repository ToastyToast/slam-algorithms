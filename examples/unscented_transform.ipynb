{
 "cells": [
  {
   "cell_type": "code",
   "execution_count": 1,
   "metadata": {},
   "outputs": [],
   "source": [
    "%load_ext autoreload\n",
    "%autoreload 2\n",
    "%matplotlib inline"
   ]
  },
  {
   "cell_type": "code",
   "execution_count": 2,
   "metadata": {},
   "outputs": [],
   "source": [
    "import math\n",
    "import numpy as np\n",
    "import matplotlib.pyplot as plt\n",
    "from slam.ukf import compute_sigma_points, recover_gaussian"
   ]
  },
  {
   "cell_type": "code",
   "execution_count": 3,
   "metadata": {},
   "outputs": [],
   "source": [
    "def transform_linear(points):\n",
    "    points[[0], :] = points[[0], :] + 1\n",
    "    points[[1], :] = points[[1], :] + 2\n",
    "    \n",
    "    return points"
   ]
  },
  {
   "cell_type": "code",
   "execution_count": 4,
   "metadata": {},
   "outputs": [
    {
     "name": "stdout",
     "output_type": "stream",
     "text": [
      "[[0]\n",
      " [0]\n",
      " [3]]\n",
      "[[0.1 0.  0. ]\n",
      " [0.  0.1 0. ]\n",
      " [0.  0.  0.1]]\n",
      "====================\n",
      "[[ 0.          0.56920998  0.          0.         -0.56920998  0.\n",
      "   0.        ]\n",
      " [ 0.          0.          0.56920998  0.          0.         -0.56920998\n",
      "   0.        ]\n",
      " [ 3.          3.          3.          3.56920998  3.          3.\n",
      "   2.43079002]]\n",
      "[0.07407407 0.15432099 0.15432099 0.15432099 0.15432099 0.15432099\n",
      " 0.15432099]\n",
      "[2.26407407 0.15432099 0.15432099 0.15432099 0.15432099 0.15432099\n",
      " 0.15432099]\n",
      "====================\n",
      "[[1.]\n",
      " [2.]\n",
      " [3.]]\n",
      "[[0.1 0.  0. ]\n",
      " [0.  0.1 0. ]\n",
      " [0.  0.  0.1]]\n"
     ]
    }
   ],
   "source": [
    "sigma = np.eye(3) * 0.1\n",
    "mu = np.matrix([0, 0, 3]).T\n",
    "\n",
    "n = mu.shape[0]\n",
    "alpha = 0.9\n",
    "beta = 2\n",
    "kappa = 1\n",
    "lambd = alpha*alpha*(n+kappa)-n\n",
    "\n",
    "print(mu)\n",
    "print(sigma)\n",
    "print(20*'=')\n",
    "\n",
    "sigma_points, w_m, w_c = compute_sigma_points(mu, sigma, lambd, alpha, beta)\n",
    "print(sigma_points)\n",
    "print(w_m)\n",
    "print(w_c)\n",
    "\n",
    "transform_linear(sigma_points)\n",
    "\n",
    "mu, sigma = recover_gaussian(sigma_points, w_m, w_c)\n",
    "print(20*'=')\n",
    "print(mu)\n",
    "print(sigma)"
   ]
  }
 ],
 "metadata": {
  "kernelspec": {
   "display_name": "Python 3",
   "language": "python",
   "name": "python3"
  },
  "language_info": {
   "codemirror_mode": {
    "name": "ipython",
    "version": 3
   },
   "file_extension": ".py",
   "mimetype": "text/x-python",
   "name": "python",
   "nbconvert_exporter": "python",
   "pygments_lexer": "ipython3",
   "version": "3.7.0"
  }
 },
 "nbformat": 4,
 "nbformat_minor": 2
}
